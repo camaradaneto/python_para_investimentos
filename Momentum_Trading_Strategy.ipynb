{
  "nbformat": 4,
  "nbformat_minor": 0,
  "metadata": {
    "colab": {
      "name": "Momentum Trading Strategy",
      "provenance": [],
      "collapsed_sections": [],
      "authorship_tag": "ABX9TyNICSMMnMMBmv4/qo6LYM0N",
      "include_colab_link": true
    },
    "kernelspec": {
      "name": "python3",
      "display_name": "Python 3"
    },
    "language_info": {
      "name": "python"
    }
  },
  "cells": [
    {
      "cell_type": "markdown",
      "metadata": {
        "id": "view-in-github",
        "colab_type": "text"
      },
      "source": [
        "<a href=\"https://colab.research.google.com/github/camaradaneto/python_para_investimentos/blob/master/Momentum_Trading_Strategy.ipynb\" target=\"_parent\"><img src=\"https://colab.research.google.com/assets/colab-badge.svg\" alt=\"Open In Colab\"/></a>"
      ]
    },
    {
      "cell_type": "code",
      "metadata": {
        "id": "1jYL3uzYlTvd"
      },
      "source": [
        "import pandas as pd\n",
        "import pandas_datareader.data as web\n",
        "from pandas import Series, DataFrame\n",
        "import datetime\n",
        "from datetime import date, timedelta\n",
        "import matplotlib.pyplot as plt"
      ],
      "execution_count": 12,
      "outputs": []
    },
    {
      "cell_type": "markdown",
      "metadata": {
        "id": "cYnqVOVJmMJ0"
      },
      "source": [
        "A estratégia se baseia em verificar a media móvel do movimento do preço e o movimento do volume de negociações.  \n",
        "* Preço baixo + volume alto = momento de compra  \n",
        "* Preço alto + volume baixo = momento de venda"
      ]
    },
    {
      "cell_type": "code",
      "metadata": {
        "colab": {
          "base_uri": "https://localhost:8080/"
        },
        "id": "jHj05Tm6li-O",
        "outputId": "8bc1dfbc-6637-4518-e8e0-3e7212232e4a"
      },
      "source": [
        "papel = input(\"Qual o papel a ser procurado: \")"
      ],
      "execution_count": 21,
      "outputs": [
        {
          "output_type": "stream",
          "text": [
            "Qual o papel a ser procurado: BKNG\n"
          ],
          "name": "stdout"
        }
      ]
    },
    {
      "cell_type": "code",
      "metadata": {
        "colab": {
          "base_uri": "https://localhost:8080/"
        },
        "id": "37Nif1dJ_4v1",
        "outputId": "95f690f9-c2af-4d4f-f027-0c8212f2599f"
      },
      "source": [
        "janela = input(\"Qual a janela da media móvel: \")"
      ],
      "execution_count": 69,
      "outputs": [
        {
          "output_type": "stream",
          "text": [
            "Qual a janela da media móvel: 2\n"
          ],
          "name": "stdout"
        }
      ]
    },
    {
      "cell_type": "markdown",
      "metadata": {
        "id": "lQtN6gQFmvH4"
      },
      "source": [
        "Cada papel possui volatilidade e comportamento diferente, ptt é interessante testar um prazo diferente de 150 dias com outros papeis para buscar o melhor rendimento.  \n",
        "Papeis mais estáveis (large caps) precisam de período e media móvel maiores que papéis mais voláteis. "
      ]
    },
    {
      "cell_type": "code",
      "metadata": {
        "colab": {
          "base_uri": "https://localhost:8080/",
          "height": 450
        },
        "id": "yWcioCRMl32u",
        "outputId": "1c4a3dd6-e160-4ec3-f4f6-5eda1dad95f9"
      },
      "source": [
        "start = (date.today()-timedelta(150))\n",
        "end = date.today()\n",
        "df = web.DataReader(papel, 'yahoo', start, end)\n",
        "df"
      ],
      "execution_count": 70,
      "outputs": [
        {
          "output_type": "execute_result",
          "data": {
            "text/html": [
              "<div>\n",
              "<style scoped>\n",
              "    .dataframe tbody tr th:only-of-type {\n",
              "        vertical-align: middle;\n",
              "    }\n",
              "\n",
              "    .dataframe tbody tr th {\n",
              "        vertical-align: top;\n",
              "    }\n",
              "\n",
              "    .dataframe thead th {\n",
              "        text-align: right;\n",
              "    }\n",
              "</style>\n",
              "<table border=\"1\" class=\"dataframe\">\n",
              "  <thead>\n",
              "    <tr style=\"text-align: right;\">\n",
              "      <th></th>\n",
              "      <th>High</th>\n",
              "      <th>Low</th>\n",
              "      <th>Open</th>\n",
              "      <th>Close</th>\n",
              "      <th>Volume</th>\n",
              "      <th>Adj Close</th>\n",
              "    </tr>\n",
              "    <tr>\n",
              "      <th>Date</th>\n",
              "      <th></th>\n",
              "      <th></th>\n",
              "      <th></th>\n",
              "      <th></th>\n",
              "      <th></th>\n",
              "      <th></th>\n",
              "    </tr>\n",
              "  </thead>\n",
              "  <tbody>\n",
              "    <tr>\n",
              "      <th>2020-12-28</th>\n",
              "      <td>2152.260010</td>\n",
              "      <td>2124.459961</td>\n",
              "      <td>2129.449951</td>\n",
              "      <td>2137.919922</td>\n",
              "      <td>251000</td>\n",
              "      <td>2137.919922</td>\n",
              "    </tr>\n",
              "    <tr>\n",
              "      <th>2020-12-29</th>\n",
              "      <td>2200.000000</td>\n",
              "      <td>2153.959961</td>\n",
              "      <td>2165.979980</td>\n",
              "      <td>2185.399902</td>\n",
              "      <td>341900</td>\n",
              "      <td>2185.399902</td>\n",
              "    </tr>\n",
              "    <tr>\n",
              "      <th>2020-12-30</th>\n",
              "      <td>2214.010010</td>\n",
              "      <td>2174.969971</td>\n",
              "      <td>2200.000000</td>\n",
              "      <td>2205.260010</td>\n",
              "      <td>229700</td>\n",
              "      <td>2205.260010</td>\n",
              "    </tr>\n",
              "    <tr>\n",
              "      <th>2020-12-31</th>\n",
              "      <td>2227.969971</td>\n",
              "      <td>2185.000000</td>\n",
              "      <td>2198.070068</td>\n",
              "      <td>2227.270020</td>\n",
              "      <td>176600</td>\n",
              "      <td>2227.270020</td>\n",
              "    </tr>\n",
              "    <tr>\n",
              "      <th>2021-01-04</th>\n",
              "      <td>2257.189941</td>\n",
              "      <td>2121.209961</td>\n",
              "      <td>2250.000000</td>\n",
              "      <td>2164.080078</td>\n",
              "      <td>334000</td>\n",
              "      <td>2164.080078</td>\n",
              "    </tr>\n",
              "    <tr>\n",
              "      <th>...</th>\n",
              "      <td>...</td>\n",
              "      <td>...</td>\n",
              "      <td>...</td>\n",
              "      <td>...</td>\n",
              "      <td>...</td>\n",
              "      <td>...</td>\n",
              "    </tr>\n",
              "    <tr>\n",
              "      <th>2021-05-20</th>\n",
              "      <td>2309.760010</td>\n",
              "      <td>2260.909912</td>\n",
              "      <td>2279.840088</td>\n",
              "      <td>2306.050049</td>\n",
              "      <td>311900</td>\n",
              "      <td>2306.050049</td>\n",
              "    </tr>\n",
              "    <tr>\n",
              "      <th>2021-05-21</th>\n",
              "      <td>2336.300049</td>\n",
              "      <td>2268.340088</td>\n",
              "      <td>2324.570068</td>\n",
              "      <td>2293.379883</td>\n",
              "      <td>263200</td>\n",
              "      <td>2293.379883</td>\n",
              "    </tr>\n",
              "    <tr>\n",
              "      <th>2021-05-24</th>\n",
              "      <td>2356.149902</td>\n",
              "      <td>2300.199951</td>\n",
              "      <td>2301.719971</td>\n",
              "      <td>2348.479980</td>\n",
              "      <td>332500</td>\n",
              "      <td>2348.479980</td>\n",
              "    </tr>\n",
              "    <tr>\n",
              "      <th>2021-05-25</th>\n",
              "      <td>2373.879883</td>\n",
              "      <td>2329.290039</td>\n",
              "      <td>2357.500000</td>\n",
              "      <td>2339.010010</td>\n",
              "      <td>278100</td>\n",
              "      <td>2339.010010</td>\n",
              "    </tr>\n",
              "    <tr>\n",
              "      <th>2021-05-26</th>\n",
              "      <td>2366.489990</td>\n",
              "      <td>2344.000000</td>\n",
              "      <td>2366.489990</td>\n",
              "      <td>2353.219971</td>\n",
              "      <td>28243</td>\n",
              "      <td>2353.219971</td>\n",
              "    </tr>\n",
              "  </tbody>\n",
              "</table>\n",
              "<p>104 rows × 6 columns</p>\n",
              "</div>"
            ],
            "text/plain": [
              "                   High          Low  ...  Volume    Adj Close\n",
              "Date                                  ...                     \n",
              "2020-12-28  2152.260010  2124.459961  ...  251000  2137.919922\n",
              "2020-12-29  2200.000000  2153.959961  ...  341900  2185.399902\n",
              "2020-12-30  2214.010010  2174.969971  ...  229700  2205.260010\n",
              "2020-12-31  2227.969971  2185.000000  ...  176600  2227.270020\n",
              "2021-01-04  2257.189941  2121.209961  ...  334000  2164.080078\n",
              "...                 ...          ...  ...     ...          ...\n",
              "2021-05-20  2309.760010  2260.909912  ...  311900  2306.050049\n",
              "2021-05-21  2336.300049  2268.340088  ...  263200  2293.379883\n",
              "2021-05-24  2356.149902  2300.199951  ...  332500  2348.479980\n",
              "2021-05-25  2373.879883  2329.290039  ...  278100  2339.010010\n",
              "2021-05-26  2366.489990  2344.000000  ...   28243  2353.219971\n",
              "\n",
              "[104 rows x 6 columns]"
            ]
          },
          "metadata": {
            "tags": []
          },
          "execution_count": 70
        }
      ]
    },
    {
      "cell_type": "markdown",
      "metadata": {
        "id": "WGqjM68EnShq"
      },
      "source": [
        "A media móvel aqui será de 30 dias, mas também deve ser testado prazos diferentes de acordo com a estratégia e o papel negociado."
      ]
    },
    {
      "cell_type": "code",
      "metadata": {
        "id": "W6iBLHSjl1JX"
      },
      "source": [
        "# criando a variável para medir a media movel\n",
        "df['mm_preco'] = df['Adj Close'].rolling(window=int(janela)).mean()\n",
        "df['mm_volume'] = df['Volume'].rolling(window=int(janela)).mean()"
      ],
      "execution_count": 71,
      "outputs": []
    },
    {
      "cell_type": "markdown",
      "metadata": {
        "id": "y7Gn6lXdoYjw"
      },
      "source": [
        "As primeiras linhas das novas colunas aparecem NAN pq a media móvel que escolhemos precisa dos primeiros registros para ser calculada"
      ]
    },
    {
      "cell_type": "code",
      "metadata": {
        "colab": {
          "base_uri": "https://localhost:8080/",
          "height": 235
        },
        "id": "MU1kGgQEoRw0",
        "outputId": "f9edd948-e8a0-452d-9e70-a87a36a41134"
      },
      "source": [
        "df.head()"
      ],
      "execution_count": 72,
      "outputs": [
        {
          "output_type": "execute_result",
          "data": {
            "text/html": [
              "<div>\n",
              "<style scoped>\n",
              "    .dataframe tbody tr th:only-of-type {\n",
              "        vertical-align: middle;\n",
              "    }\n",
              "\n",
              "    .dataframe tbody tr th {\n",
              "        vertical-align: top;\n",
              "    }\n",
              "\n",
              "    .dataframe thead th {\n",
              "        text-align: right;\n",
              "    }\n",
              "</style>\n",
              "<table border=\"1\" class=\"dataframe\">\n",
              "  <thead>\n",
              "    <tr style=\"text-align: right;\">\n",
              "      <th></th>\n",
              "      <th>High</th>\n",
              "      <th>Low</th>\n",
              "      <th>Open</th>\n",
              "      <th>Close</th>\n",
              "      <th>Volume</th>\n",
              "      <th>Adj Close</th>\n",
              "      <th>mm_preco</th>\n",
              "      <th>mm_volume</th>\n",
              "    </tr>\n",
              "    <tr>\n",
              "      <th>Date</th>\n",
              "      <th></th>\n",
              "      <th></th>\n",
              "      <th></th>\n",
              "      <th></th>\n",
              "      <th></th>\n",
              "      <th></th>\n",
              "      <th></th>\n",
              "      <th></th>\n",
              "    </tr>\n",
              "  </thead>\n",
              "  <tbody>\n",
              "    <tr>\n",
              "      <th>2020-12-28</th>\n",
              "      <td>2152.260010</td>\n",
              "      <td>2124.459961</td>\n",
              "      <td>2129.449951</td>\n",
              "      <td>2137.919922</td>\n",
              "      <td>251000</td>\n",
              "      <td>2137.919922</td>\n",
              "      <td>NaN</td>\n",
              "      <td>NaN</td>\n",
              "    </tr>\n",
              "    <tr>\n",
              "      <th>2020-12-29</th>\n",
              "      <td>2200.000000</td>\n",
              "      <td>2153.959961</td>\n",
              "      <td>2165.979980</td>\n",
              "      <td>2185.399902</td>\n",
              "      <td>341900</td>\n",
              "      <td>2185.399902</td>\n",
              "      <td>2161.659912</td>\n",
              "      <td>296450.0</td>\n",
              "    </tr>\n",
              "    <tr>\n",
              "      <th>2020-12-30</th>\n",
              "      <td>2214.010010</td>\n",
              "      <td>2174.969971</td>\n",
              "      <td>2200.000000</td>\n",
              "      <td>2205.260010</td>\n",
              "      <td>229700</td>\n",
              "      <td>2205.260010</td>\n",
              "      <td>2195.329956</td>\n",
              "      <td>285800.0</td>\n",
              "    </tr>\n",
              "    <tr>\n",
              "      <th>2020-12-31</th>\n",
              "      <td>2227.969971</td>\n",
              "      <td>2185.000000</td>\n",
              "      <td>2198.070068</td>\n",
              "      <td>2227.270020</td>\n",
              "      <td>176600</td>\n",
              "      <td>2227.270020</td>\n",
              "      <td>2216.265015</td>\n",
              "      <td>203150.0</td>\n",
              "    </tr>\n",
              "    <tr>\n",
              "      <th>2021-01-04</th>\n",
              "      <td>2257.189941</td>\n",
              "      <td>2121.209961</td>\n",
              "      <td>2250.000000</td>\n",
              "      <td>2164.080078</td>\n",
              "      <td>334000</td>\n",
              "      <td>2164.080078</td>\n",
              "      <td>2195.675049</td>\n",
              "      <td>255300.0</td>\n",
              "    </tr>\n",
              "  </tbody>\n",
              "</table>\n",
              "</div>"
            ],
            "text/plain": [
              "                   High          Low  ...     mm_preco  mm_volume\n",
              "Date                                  ...                        \n",
              "2020-12-28  2152.260010  2124.459961  ...          NaN        NaN\n",
              "2020-12-29  2200.000000  2153.959961  ...  2161.659912   296450.0\n",
              "2020-12-30  2214.010010  2174.969971  ...  2195.329956   285800.0\n",
              "2020-12-31  2227.969971  2185.000000  ...  2216.265015   203150.0\n",
              "2021-01-04  2257.189941  2121.209961  ...  2195.675049   255300.0\n",
              "\n",
              "[5 rows x 8 columns]"
            ]
          },
          "metadata": {
            "tags": []
          },
          "execution_count": 72
        }
      ]
    },
    {
      "cell_type": "code",
      "metadata": {
        "colab": {
          "base_uri": "https://localhost:8080/",
          "height": 450
        },
        "id": "94t5SVjRoXY8",
        "outputId": "cfabfc17-f23d-4b65-e11b-a1d765710c8b"
      },
      "source": [
        "df = df.dropna()\n",
        "df"
      ],
      "execution_count": 73,
      "outputs": [
        {
          "output_type": "execute_result",
          "data": {
            "text/html": [
              "<div>\n",
              "<style scoped>\n",
              "    .dataframe tbody tr th:only-of-type {\n",
              "        vertical-align: middle;\n",
              "    }\n",
              "\n",
              "    .dataframe tbody tr th {\n",
              "        vertical-align: top;\n",
              "    }\n",
              "\n",
              "    .dataframe thead th {\n",
              "        text-align: right;\n",
              "    }\n",
              "</style>\n",
              "<table border=\"1\" class=\"dataframe\">\n",
              "  <thead>\n",
              "    <tr style=\"text-align: right;\">\n",
              "      <th></th>\n",
              "      <th>High</th>\n",
              "      <th>Low</th>\n",
              "      <th>Open</th>\n",
              "      <th>Close</th>\n",
              "      <th>Volume</th>\n",
              "      <th>Adj Close</th>\n",
              "      <th>mm_preco</th>\n",
              "      <th>mm_volume</th>\n",
              "    </tr>\n",
              "    <tr>\n",
              "      <th>Date</th>\n",
              "      <th></th>\n",
              "      <th></th>\n",
              "      <th></th>\n",
              "      <th></th>\n",
              "      <th></th>\n",
              "      <th></th>\n",
              "      <th></th>\n",
              "      <th></th>\n",
              "    </tr>\n",
              "  </thead>\n",
              "  <tbody>\n",
              "    <tr>\n",
              "      <th>2020-12-29</th>\n",
              "      <td>2200.000000</td>\n",
              "      <td>2153.959961</td>\n",
              "      <td>2165.979980</td>\n",
              "      <td>2185.399902</td>\n",
              "      <td>341900</td>\n",
              "      <td>2185.399902</td>\n",
              "      <td>2161.659912</td>\n",
              "      <td>296450.0</td>\n",
              "    </tr>\n",
              "    <tr>\n",
              "      <th>2020-12-30</th>\n",
              "      <td>2214.010010</td>\n",
              "      <td>2174.969971</td>\n",
              "      <td>2200.000000</td>\n",
              "      <td>2205.260010</td>\n",
              "      <td>229700</td>\n",
              "      <td>2205.260010</td>\n",
              "      <td>2195.329956</td>\n",
              "      <td>285800.0</td>\n",
              "    </tr>\n",
              "    <tr>\n",
              "      <th>2020-12-31</th>\n",
              "      <td>2227.969971</td>\n",
              "      <td>2185.000000</td>\n",
              "      <td>2198.070068</td>\n",
              "      <td>2227.270020</td>\n",
              "      <td>176600</td>\n",
              "      <td>2227.270020</td>\n",
              "      <td>2216.265015</td>\n",
              "      <td>203150.0</td>\n",
              "    </tr>\n",
              "    <tr>\n",
              "      <th>2021-01-04</th>\n",
              "      <td>2257.189941</td>\n",
              "      <td>2121.209961</td>\n",
              "      <td>2250.000000</td>\n",
              "      <td>2164.080078</td>\n",
              "      <td>334000</td>\n",
              "      <td>2164.080078</td>\n",
              "      <td>2195.675049</td>\n",
              "      <td>255300.0</td>\n",
              "    </tr>\n",
              "    <tr>\n",
              "      <th>2021-01-05</th>\n",
              "      <td>2225.939941</td>\n",
              "      <td>2154.560059</td>\n",
              "      <td>2164.000000</td>\n",
              "      <td>2188.070068</td>\n",
              "      <td>348200</td>\n",
              "      <td>2188.070068</td>\n",
              "      <td>2176.075073</td>\n",
              "      <td>341100.0</td>\n",
              "    </tr>\n",
              "    <tr>\n",
              "      <th>...</th>\n",
              "      <td>...</td>\n",
              "      <td>...</td>\n",
              "      <td>...</td>\n",
              "      <td>...</td>\n",
              "      <td>...</td>\n",
              "      <td>...</td>\n",
              "      <td>...</td>\n",
              "      <td>...</td>\n",
              "    </tr>\n",
              "    <tr>\n",
              "      <th>2021-05-20</th>\n",
              "      <td>2309.760010</td>\n",
              "      <td>2260.909912</td>\n",
              "      <td>2279.840088</td>\n",
              "      <td>2306.050049</td>\n",
              "      <td>311900</td>\n",
              "      <td>2306.050049</td>\n",
              "      <td>2288.030029</td>\n",
              "      <td>358850.0</td>\n",
              "    </tr>\n",
              "    <tr>\n",
              "      <th>2021-05-21</th>\n",
              "      <td>2336.300049</td>\n",
              "      <td>2268.340088</td>\n",
              "      <td>2324.570068</td>\n",
              "      <td>2293.379883</td>\n",
              "      <td>263200</td>\n",
              "      <td>2293.379883</td>\n",
              "      <td>2299.714966</td>\n",
              "      <td>287550.0</td>\n",
              "    </tr>\n",
              "    <tr>\n",
              "      <th>2021-05-24</th>\n",
              "      <td>2356.149902</td>\n",
              "      <td>2300.199951</td>\n",
              "      <td>2301.719971</td>\n",
              "      <td>2348.479980</td>\n",
              "      <td>332500</td>\n",
              "      <td>2348.479980</td>\n",
              "      <td>2320.929932</td>\n",
              "      <td>297850.0</td>\n",
              "    </tr>\n",
              "    <tr>\n",
              "      <th>2021-05-25</th>\n",
              "      <td>2373.879883</td>\n",
              "      <td>2329.290039</td>\n",
              "      <td>2357.500000</td>\n",
              "      <td>2339.010010</td>\n",
              "      <td>278100</td>\n",
              "      <td>2339.010010</td>\n",
              "      <td>2343.744995</td>\n",
              "      <td>305300.0</td>\n",
              "    </tr>\n",
              "    <tr>\n",
              "      <th>2021-05-26</th>\n",
              "      <td>2366.489990</td>\n",
              "      <td>2344.000000</td>\n",
              "      <td>2366.489990</td>\n",
              "      <td>2353.219971</td>\n",
              "      <td>28243</td>\n",
              "      <td>2353.219971</td>\n",
              "      <td>2346.114990</td>\n",
              "      <td>153171.5</td>\n",
              "    </tr>\n",
              "  </tbody>\n",
              "</table>\n",
              "<p>103 rows × 8 columns</p>\n",
              "</div>"
            ],
            "text/plain": [
              "                   High          Low  ...     mm_preco  mm_volume\n",
              "Date                                  ...                        \n",
              "2020-12-29  2200.000000  2153.959961  ...  2161.659912   296450.0\n",
              "2020-12-30  2214.010010  2174.969971  ...  2195.329956   285800.0\n",
              "2020-12-31  2227.969971  2185.000000  ...  2216.265015   203150.0\n",
              "2021-01-04  2257.189941  2121.209961  ...  2195.675049   255300.0\n",
              "2021-01-05  2225.939941  2154.560059  ...  2176.075073   341100.0\n",
              "...                 ...          ...  ...          ...        ...\n",
              "2021-05-20  2309.760010  2260.909912  ...  2288.030029   358850.0\n",
              "2021-05-21  2336.300049  2268.340088  ...  2299.714966   287550.0\n",
              "2021-05-24  2356.149902  2300.199951  ...  2320.929932   297850.0\n",
              "2021-05-25  2373.879883  2329.290039  ...  2343.744995   305300.0\n",
              "2021-05-26  2366.489990  2344.000000  ...  2346.114990   153171.5\n",
              "\n",
              "[103 rows x 8 columns]"
            ]
          },
          "metadata": {
            "tags": []
          },
          "execution_count": 73
        }
      ]
    },
    {
      "cell_type": "markdown",
      "metadata": {
        "id": "qrYXjykgo6UH"
      },
      "source": [
        "É interessante plotar para visualizarmos o comportamento da ação ao longo do tempo. Isso não é essencial, mas pode nos dar insights para configurar os prazos e estratégia"
      ]
    },
    {
      "cell_type": "code",
      "metadata": {
        "colab": {
          "base_uri": "https://localhost:8080/",
          "height": 578
        },
        "id": "uNfZRou1ozhn",
        "outputId": "f6ae18fe-3c95-40cb-b0e8-75da3ef100c8"
      },
      "source": [
        "# plota a mm\n",
        "close_price = df['Adj Close']\n",
        "mmp_plot = df['mm_preco']\n",
        "mmv_plot = df['mm_volume']\n",
        "\n",
        "# ajustando o tamanho do plot\n",
        "plt.rc('figure', figsize=(15,10))\n",
        "\n",
        "# ajustando o estilo\n",
        "plt.style.use('ggplot')\n",
        "\n",
        "close_price.plot(label=papel, legend=True)\n",
        "mmp_plot.plot(label='MM Preço 30 dias', legend=True)\n",
        "mmv_plot.plot(secondary_y=True, label='MM Volume', legend=True);\n"
      ],
      "execution_count": 74,
      "outputs": [
        {
          "output_type": "display_data",
          "data": {
            "image/png": "[encoded data removed]",
            "text/plain": [
              "<Figure size 1080x720 with 2 Axes>"
            ]
          },
          "metadata": {
            "tags": []
          }
        }
      ]
    },
    {
      "cell_type": "markdown",
      "metadata": {
        "id": "9zB92irOrpMh"
      },
      "source": [
        "Criando indicadores se o preço está abaixo da media e volume acima.  \n",
        "* Preço baixo + volume alto = compra\n",
        "* Preço alto + volume baixo = venda"
      ]
    },
    {
      "cell_type": "code",
      "metadata": {
        "colab": {
          "base_uri": "https://localhost:8080/"
        },
        "id": "0sAcAmyQqsDg",
        "outputId": "3abca82c-9a4a-4c72-c377-8242d6dbc6b9"
      },
      "source": [
        "df['preco_abaixo'] = df['mm_preco'].gt(df['Adj Close']) # gt '>' retorna booleano (great than)\n",
        "df['volume_acima'] = df['mm_volume'].gt(df['Volume'])"
      ],
      "execution_count": 75,
      "outputs": [
        {
          "output_type": "stream",
          "text": [
            "/usr/local/lib/python3.7/dist-packages/ipykernel_launcher.py:1: SettingWithCopyWarning: \n",
            "A value is trying to be set on a copy of a slice from a DataFrame.\n",
            "Try using .loc[row_indexer,col_indexer] = value instead\n",
            "\n",
            "See the caveats in the documentation: https://pandas.pydata.org/pandas-docs/stable/user_guide/indexing.html#returning-a-view-versus-a-copy\n",
            "  \"\"\"Entry point for launching an IPython kernel.\n",
            "/usr/local/lib/python3.7/dist-packages/ipykernel_launcher.py:2: SettingWithCopyWarning: \n",
            "A value is trying to be set on a copy of a slice from a DataFrame.\n",
            "Try using .loc[row_indexer,col_indexer] = value instead\n",
            "\n",
            "See the caveats in the documentation: https://pandas.pydata.org/pandas-docs/stable/user_guide/indexing.html#returning-a-view-versus-a-copy\n",
            "  \n"
          ],
          "name": "stderr"
        }
      ]
    },
    {
      "cell_type": "code",
      "metadata": {
        "colab": {
          "base_uri": "https://localhost:8080/",
          "height": 450
        },
        "id": "pm7uYu_DsTqP",
        "outputId": "e4f07dac-ec0d-4b35-9b64-a560fe1b6311"
      },
      "source": [
        "df"
      ],
      "execution_count": 76,
      "outputs": [
        {
          "output_type": "execute_result",
          "data": {
            "text/html": [
              "<div>\n",
              "<style scoped>\n",
              "    .dataframe tbody tr th:only-of-type {\n",
              "        vertical-align: middle;\n",
              "    }\n",
              "\n",
              "    .dataframe tbody tr th {\n",
              "        vertical-align: top;\n",
              "    }\n",
              "\n",
              "    .dataframe thead th {\n",
              "        text-align: right;\n",
              "    }\n",
              "</style>\n",
              "<table border=\"1\" class=\"dataframe\">\n",
              "  <thead>\n",
              "    <tr style=\"text-align: right;\">\n",
              "      <th></th>\n",
              "      <th>High</th>\n",
              "      <th>Low</th>\n",
              "      <th>Open</th>\n",
              "      <th>Close</th>\n",
              "      <th>Volume</th>\n",
              "      <th>Adj Close</th>\n",
              "      <th>mm_preco</th>\n",
              "      <th>mm_volume</th>\n",
              "      <th>preco_abaixo</th>\n",
              "      <th>volume_acima</th>\n",
              "    </tr>\n",
              "    <tr>\n",
              "      <th>Date</th>\n",
              "      <th></th>\n",
              "      <th></th>\n",
              "      <th></th>\n",
              "      <th></th>\n",
              "      <th></th>\n",
              "      <th></th>\n",
              "      <th></th>\n",
              "      <th></th>\n",
              "      <th></th>\n",
              "      <th></th>\n",
              "    </tr>\n",
              "  </thead>\n",
              "  <tbody>\n",
              "    <tr>\n",
              "      <th>2020-12-29</th>\n",
              "      <td>2200.000000</td>\n",
              "      <td>2153.959961</td>\n",
              "      <td>2165.979980</td>\n",
              "      <td>2185.399902</td>\n",
              "      <td>341900</td>\n",
              "      <td>2185.399902</td>\n",
              "      <td>2161.659912</td>\n",
              "      <td>296450.0</td>\n",
              "      <td>False</td>\n",
              "      <td>False</td>\n",
              "    </tr>\n",
              "    <tr>\n",
              "      <th>2020-12-30</th>\n",
              "      <td>2214.010010</td>\n",
              "      <td>2174.969971</td>\n",
              "      <td>2200.000000</td>\n",
              "      <td>2205.260010</td>\n",
              "      <td>229700</td>\n",
              "      <td>2205.260010</td>\n",
              "      <td>2195.329956</td>\n",
              "      <td>285800.0</td>\n",
              "      <td>False</td>\n",
              "      <td>True</td>\n",
              "    </tr>\n",
              "    <tr>\n",
              "      <th>2020-12-31</th>\n",
              "      <td>2227.969971</td>\n",
              "      <td>2185.000000</td>\n",
              "      <td>2198.070068</td>\n",
              "      <td>2227.270020</td>\n",
              "      <td>176600</td>\n",
              "      <td>2227.270020</td>\n",
              "      <td>2216.265015</td>\n",
              "      <td>203150.0</td>\n",
              "      <td>False</td>\n",
              "      <td>True</td>\n",
              "    </tr>\n",
              "    <tr>\n",
              "      <th>2021-01-04</th>\n",
              "      <td>2257.189941</td>\n",
              "      <td>2121.209961</td>\n",
              "      <td>2250.000000</td>\n",
              "      <td>2164.080078</td>\n",
              "      <td>334000</td>\n",
              "      <td>2164.080078</td>\n",
              "      <td>2195.675049</td>\n",
              "      <td>255300.0</td>\n",
              "      <td>True</td>\n",
              "      <td>False</td>\n",
              "    </tr>\n",
              "    <tr>\n",
              "      <th>2021-01-05</th>\n",
              "      <td>2225.939941</td>\n",
              "      <td>2154.560059</td>\n",
              "      <td>2164.000000</td>\n",
              "      <td>2188.070068</td>\n",
              "      <td>348200</td>\n",
              "      <td>2188.070068</td>\n",
              "      <td>2176.075073</td>\n",
              "      <td>341100.0</td>\n",
              "      <td>False</td>\n",
              "      <td>False</td>\n",
              "    </tr>\n",
              "    <tr>\n",
              "      <th>...</th>\n",
              "      <td>...</td>\n",
              "      <td>...</td>\n",
              "      <td>...</td>\n",
              "      <td>...</td>\n",
              "      <td>...</td>\n",
              "      <td>...</td>\n",
              "      <td>...</td>\n",
              "      <td>...</td>\n",
              "      <td>...</td>\n",
              "      <td>...</td>\n",
              "    </tr>\n",
              "    <tr>\n",
              "      <th>2021-05-20</th>\n",
              "      <td>2309.760010</td>\n",
              "      <td>2260.909912</td>\n",
              "      <td>2279.840088</td>\n",
              "      <td>2306.050049</td>\n",
              "      <td>311900</td>\n",
              "      <td>2306.050049</td>\n",
              "      <td>2288.030029</td>\n",
              "      <td>358850.0</td>\n",
              "      <td>False</td>\n",
              "      <td>True</td>\n",
              "    </tr>\n",
              "    <tr>\n",
              "      <th>2021-05-21</th>\n",
              "      <td>2336.300049</td>\n",
              "      <td>2268.340088</td>\n",
              "      <td>2324.570068</td>\n",
              "      <td>2293.379883</td>\n",
              "      <td>263200</td>\n",
              "      <td>2293.379883</td>\n",
              "      <td>2299.714966</td>\n",
              "      <td>287550.0</td>\n",
              "      <td>True</td>\n",
              "      <td>True</td>\n",
              "    </tr>\n",
              "    <tr>\n",
              "      <th>2021-05-24</th>\n",
              "      <td>2356.149902</td>\n",
              "      <td>2300.199951</td>\n",
              "      <td>2301.719971</td>\n",
              "      <td>2348.479980</td>\n",
              "      <td>332500</td>\n",
              "      <td>2348.479980</td>\n",
              "      <td>2320.929932</td>\n",
              "      <td>297850.0</td>\n",
              "      <td>False</td>\n",
              "      <td>False</td>\n",
              "    </tr>\n",
              "    <tr>\n",
              "      <th>2021-05-25</th>\n",
              "      <td>2373.879883</td>\n",
              "      <td>2329.290039</td>\n",
              "      <td>2357.500000</td>\n",
              "      <td>2339.010010</td>\n",
              "      <td>278100</td>\n",
              "      <td>2339.010010</td>\n",
              "      <td>2343.744995</td>\n",
              "      <td>305300.0</td>\n",
              "      <td>True</td>\n",
              "      <td>True</td>\n",
              "    </tr>\n",
              "    <tr>\n",
              "      <th>2021-05-26</th>\n",
              "      <td>2366.489990</td>\n",
              "      <td>2344.000000</td>\n",
              "      <td>2366.489990</td>\n",
              "      <td>2353.219971</td>\n",
              "      <td>28243</td>\n",
              "      <td>2353.219971</td>\n",
              "      <td>2346.114990</td>\n",
              "      <td>153171.5</td>\n",
              "      <td>False</td>\n",
              "      <td>True</td>\n",
              "    </tr>\n",
              "  </tbody>\n",
              "</table>\n",
              "<p>103 rows × 10 columns</p>\n",
              "</div>"
            ],
            "text/plain": [
              "                   High          Low  ...  preco_abaixo  volume_acima\n",
              "Date                                  ...                            \n",
              "2020-12-29  2200.000000  2153.959961  ...         False         False\n",
              "2020-12-30  2214.010010  2174.969971  ...         False          True\n",
              "2020-12-31  2227.969971  2185.000000  ...         False          True\n",
              "2021-01-04  2257.189941  2121.209961  ...          True         False\n",
              "2021-01-05  2225.939941  2154.560059  ...         False         False\n",
              "...                 ...          ...  ...           ...           ...\n",
              "2021-05-20  2309.760010  2260.909912  ...         False          True\n",
              "2021-05-21  2336.300049  2268.340088  ...          True          True\n",
              "2021-05-24  2356.149902  2300.199951  ...         False         False\n",
              "2021-05-25  2373.879883  2329.290039  ...          True          True\n",
              "2021-05-26  2366.489990  2344.000000  ...         False          True\n",
              "\n",
              "[103 rows x 10 columns]"
            ]
          },
          "metadata": {
            "tags": []
          },
          "execution_count": 76
        }
      ]
    },
    {
      "cell_type": "markdown",
      "metadata": {
        "id": "nVgCVvICshkC"
      },
      "source": [
        "Testando a estratégia.  \n",
        "Antes de operar a estratégia é necessário saber se ela dará retorno. Para isso, calcularemos o retorno de acordo com os indicadores de compra e venda."
      ]
    },
    {
      "cell_type": "code",
      "metadata": {
        "colab": {
          "base_uri": "https://localhost:8080/"
        },
        "id": "pIvSB9VlsdEw",
        "outputId": "e188ebbd-fe84-43d9-84a3-035052489d59"
      },
      "source": [
        "z = 1 # variável para controlar compra e venda, para que não as repita antes de alternar\n",
        "pl = 0.00 # hist. de perda/lucro\n",
        "preco_inicial = (df['Adj Close'].head(1))\n",
        "preco_inicial = float(preco_inicial)\n",
        "print('Preço Inicial: ', preco_inicial)\n",
        "\n",
        "preco_final = (df['Adj Close'].tail(1))\n",
        "preco_final = float(preco_final)\n",
        "print('Preço final: ', preco_final)\n",
        "\n",
        "retorno = (pl / preco_inicial)\n",
        "retorno_perc = \"{:.2%}\".format(retorno)"
      ],
      "execution_count": 77,
      "outputs": [
        {
          "output_type": "stream",
          "text": [
            "Preço Inicial:  2185.39990234375\n",
            "Preço final:  2353.219970703125\n"
          ],
          "name": "stdout"
        }
      ]
    },
    {
      "cell_type": "markdown",
      "metadata": {
        "id": "ZtwOOvDNuYnC"
      },
      "source": [
        "Iterando sobre o df para testar com dados passados se essa estratégia funcionará"
      ]
    },
    {
      "cell_type": "code",
      "metadata": {
        "colab": {
          "base_uri": "https://localhost:8080/"
        },
        "id": "F65NSLlQuKrr",
        "outputId": "601a2db2-6450-4b3d-ae6f-73ed6fa111b6"
      },
      "source": [
        "for index, row in df.iterrows():\n",
        "  if row['volume_acima'] == 1:\n",
        "    if row['preco_abaixo'] == 1:\n",
        "      if z == 1:\n",
        "        print(index, row['Adj Close'], ' - Compra')\n",
        "        close_adj = row['Adj Close']\n",
        "        pl = pl - close_adj\n",
        "        z = z-1\n",
        "\n",
        "  else:\n",
        "    if row['volume_acima'] == 0:\n",
        "      if row['preco_abaixo'] == 0:\n",
        "        if z == 0:\n",
        "          print(index, row['Adj Close'], ' - Venda')\n",
        "          close_adj = row['Adj Close']\n",
        "          pl = pl + close_adj\n",
        "          retorno = (pl / preco_inicial)\n",
        "          retorno_perc = \"{:.2%}\".format(retorno)\n",
        "          print('Total Perda/Ganho: ', round(pl, 2))\n",
        "          print('Total Retorno % ', retorno_perc, \"\\n\")\n",
        "          z = z+1\n",
        "\n",
        "retorno_obtido = (preco_final - preco_inicial)\n",
        "retorno_obtido_perc = \"{:.2%}\".format((preco_final - preco_inicial) / preco_inicial)\n",
        "\n",
        "print(\"O retorno obtido para o período foi: \", retorno_obtido, \"  \", retorno_perc)"
      ],
      "execution_count": 78,
      "outputs": [
        {
          "output_type": "stream",
          "text": [
            "2021-01-07 00:00:00 2239.85009765625  - Compra\n",
            "2021-01-08 00:00:00 2281.5400390625  - Venda\n",
            "Total Perda/Ganho:  41.69\n",
            "Total Retorno %  1.91% \n",
            "\n",
            "2021-01-12 00:00:00 2196.340087890625  - Compra\n",
            "2021-01-14 00:00:00 2182.590087890625  - Venda\n",
            "Total Perda/Ganho:  27.94\n",
            "Total Retorno %  1.28% \n",
            "\n",
            "2021-01-22 00:00:00 2066.239990234375  - Compra\n",
            "2021-01-28 00:00:00 2034.0999755859375  - Venda\n",
            "Total Perda/Ganho:  -4.2\n",
            "Total Retorno %  -0.19% \n",
            "\n",
            "2021-01-29 00:00:00 1944.3299560546875  - Compra\n",
            "2021-02-04 00:00:00 2082.93994140625  - Venda\n",
            "Total Perda/Ganho:  134.41\n",
            "Total Retorno %  6.15% \n",
            "\n",
            "2021-02-12 00:00:00 2150.580078125  - Compra\n",
            "2021-02-16 00:00:00 2184.159912109375  - Venda\n",
            "Total Perda/Ganho:  167.99\n",
            "Total Retorno %  7.69% \n",
            "\n",
            "2021-03-01 00:00:00 2320.5  - Compra\n",
            "2021-03-08 00:00:00 2368.739990234375  - Venda\n",
            "Total Perda/Ganho:  216.23\n",
            "Total Retorno %  9.89% \n",
            "\n",
            "2021-03-09 00:00:00 2366.7900390625  - Compra\n",
            "2021-03-15 00:00:00 2439.5  - Venda\n",
            "Total Perda/Ganho:  288.94\n",
            "Total Retorno %  13.22% \n",
            "\n",
            "2021-03-16 00:00:00 2396.56005859375  - Compra\n",
            "2021-03-17 00:00:00 2461.780029296875  - Venda\n",
            "Total Perda/Ganho:  354.16\n",
            "Total Retorno %  16.21% \n",
            "\n",
            "2021-03-22 00:00:00 2231.889892578125  - Compra\n",
            "2021-04-05 00:00:00 2409.179931640625  - Venda\n",
            "Total Perda/Ganho:  531.45\n",
            "Total Retorno %  24.32% \n",
            "\n",
            "2021-04-07 00:00:00 2410.639892578125  - Compra\n",
            "2021-04-09 00:00:00 2450.06005859375  - Venda\n",
            "Total Perda/Ganho:  570.87\n",
            "Total Retorno %  26.12% \n",
            "\n",
            "2021-04-15 00:00:00 2433.2099609375  - Compra\n",
            "2021-04-16 00:00:00 2476.89990234375  - Venda\n",
            "Total Perda/Ganho:  614.56\n",
            "Total Retorno %  28.12% \n",
            "\n",
            "2021-04-19 00:00:00 2456.199951171875  - Compra\n",
            "2021-04-26 00:00:00 2458.25  - Venda\n",
            "Total Perda/Ganho:  616.61\n",
            "Total Retorno %  28.21% \n",
            "\n",
            "2021-04-29 00:00:00 2501.429931640625  - Compra\n",
            "2021-05-14 00:00:00 2282.47998046875  - Venda\n",
            "Total Perda/Ganho:  397.66\n",
            "Total Retorno %  18.20% \n",
            "\n",
            "2021-05-17 00:00:00 2223.14990234375  - Compra\n",
            "2021-05-19 00:00:00 2270.010009765625  - Venda\n",
            "Total Perda/Ganho:  444.52\n",
            "Total Retorno %  20.34% \n",
            "\n",
            "2021-05-21 00:00:00 2293.3798828125  - Compra\n",
            "2021-05-24 00:00:00 2348.47998046875  - Venda\n",
            "Total Perda/Ganho:  499.62\n",
            "Total Retorno %  22.86% \n",
            "\n",
            "2021-05-25 00:00:00 2339.010009765625  - Compra\n",
            "O retorno obtido para o período foi:  167.820068359375    22.86%\n"
          ],
          "name": "stdout"
        }
      ]
    },
    {
      "cell_type": "code",
      "metadata": {
        "id": "2kyxQhFSzYfS"
      },
      "source": [
        ""
      ],
      "execution_count": 78,
      "outputs": []
    }
  ]
}